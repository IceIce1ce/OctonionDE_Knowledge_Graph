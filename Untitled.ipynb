{
 "cells": [
  {
   "cell_type": "code",
   "execution_count": 221,
   "id": "105ed3fc",
   "metadata": {},
   "outputs": [
    {
     "data": {
      "text/plain": [
       "'1.10.1+cu113'"
      ]
     },
     "execution_count": 221,
     "metadata": {},
     "output_type": "execute_result"
    }
   ],
   "source": [
    "import torch\n",
    "\n",
    "torch.__version__"
   ]
  },
  {
   "cell_type": "code",
   "execution_count": 222,
   "id": "4f8c4d89",
   "metadata": {},
   "outputs": [],
   "source": [
    "import os\n",
    "\n",
    "os.environ[\"CUDA_VISIBLE_DEVICES\"] = \"0\""
   ]
  },
  {
   "cell_type": "code",
   "execution_count": 223,
   "id": "c60987ef",
   "metadata": {},
   "outputs": [
    {
     "data": {
      "text/plain": [
       "True"
      ]
     },
     "execution_count": 223,
     "metadata": {},
     "output_type": "execute_result"
    }
   ],
   "source": [
    "torch.cuda.is_available()"
   ]
  },
  {
   "cell_type": "code",
   "execution_count": 225,
   "id": "c911991f",
   "metadata": {},
   "outputs": [
    {
     "name": "stdout",
     "output_type": "stream",
     "text": [
      "Traceback (most recent call last):\r\n",
      "  File \"train_OctonionDE.py\", line 325, in <module>\r\n",
      "    con.train()\r\n",
      "  File \"/root/Chi/OctonionDE/config/Config.py\", line 422, in train\r\n",
      "    loss = self.train_one_step()\r\n",
      "  File \"/root/Chi/OctonionDE/config/Config.py\", line 379, in train_one_step\r\n",
      "    loss =self.trainModel()       \r\n",
      "  File \"/opt/conda/lib/python3.7/site-packages/torch/nn/modules/module.py\", line 727, in _call_impl\r\n",
      "    result = self.forward(*input, **kwargs)\r\n",
      "  File \"/root/Chi/OctonionDE/models/OctonionDE.py\", line 269, in forward\r\n",
      "    + torch.mean(torch.abs(r_transfer8) ** 2))\r\n",
      "RuntimeError: CUDA out of memory. Tried to allocate 222.00 MiB (GPU 0; 39.59 GiB total capacity; 37.81 GiB already allocated; 176.19 MiB free; 37.87 GiB reserved in total by PyTorch)\r\n"
     ]
    }
   ],
   "source": [
    "!python train_OctonionDE.py > output_tmp.txt"
   ]
  },
  {
   "cell_type": "code",
   "execution_count": null,
   "id": "4440ce55",
   "metadata": {},
   "outputs": [],
   "source": []
  }
 ],
 "metadata": {
  "kernelspec": {
   "display_name": "Python 3 (ipykernel)",
   "language": "python",
   "name": "python3"
  },
  "language_info": {
   "codemirror_mode": {
    "name": "ipython",
    "version": 3
   },
   "file_extension": ".py",
   "mimetype": "text/x-python",
   "name": "python",
   "nbconvert_exporter": "python",
   "pygments_lexer": "ipython3",
   "version": "3.7.11"
  }
 },
 "nbformat": 4,
 "nbformat_minor": 5
}
